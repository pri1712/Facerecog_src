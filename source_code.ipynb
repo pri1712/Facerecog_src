{
 "cells": [
  {
   "cell_type": "code",
   "execution_count": 1,
   "id": "2ece1e12",
   "metadata": {},
   "outputs": [
    {
     "name": "stdout",
     "output_type": "stream",
     "text": [

      "Requirement already satisfied: tensorflow==2.5.0 in /home/priyanshu/anaconda3/lib/python3.9/site-packages (2.5.0)\n",
      "Requirement already satisfied: opencv-python in /home/priyanshu/anaconda3/lib/python3.9/site-packages (4.7.0.72)\n",
      "Requirement already satisfied: matplotlib in /home/priyanshu/anaconda3/lib/python3.9/site-packages (3.5.2)\n",
      "Requirement already satisfied: opt-einsum~=3.3.0 in /home/priyanshu/anaconda3/lib/python3.9/site-packages (from tensorflow==2.5.0) (3.3.0)\n",
      "Requirement already satisfied: gast==0.4.0 in /home/priyanshu/anaconda3/lib/python3.9/site-packages (from tensorflow==2.5.0) (0.4.0)\n",
      "Requirement already satisfied: tensorflow-estimator<2.6.0,>=2.5.0rc0 in /home/priyanshu/anaconda3/lib/python3.9/site-packages (from tensorflow==2.5.0) (2.5.0)\n",
      "Requirement already satisfied: keras-preprocessing~=1.1.2 in /home/priyanshu/anaconda3/lib/python3.9/site-packages (from tensorflow==2.5.0) (1.1.2)\n",
      "Requirement already satisfied: absl-py~=0.10 in /home/priyanshu/anaconda3/lib/python3.9/site-packages (from tensorflow==2.5.0) (0.15.0)\n",
      "Requirement already satisfied: wheel~=0.35 in /home/priyanshu/anaconda3/lib/python3.9/site-packages (from tensorflow==2.5.0) (0.37.1)\n",
      "Requirement already satisfied: astunparse~=1.6.3 in /home/priyanshu/anaconda3/lib/python3.9/site-packages (from tensorflow==2.5.0) (1.6.3)\n",
      "Requirement already satisfied: wrapt~=1.12.1 in /home/priyanshu/anaconda3/lib/python3.9/site-packages (from tensorflow==2.5.0) (1.12.1)\n",
      "Requirement already satisfied: typing-extensions~=3.7.4 in /home/priyanshu/anaconda3/lib/python3.9/site-packages (from tensorflow==2.5.0) (3.7.4.3)\n",
      "Requirement already satisfied: flatbuffers~=1.12.0 in /home/priyanshu/anaconda3/lib/python3.9/site-packages (from tensorflow==2.5.0) (1.12)\n",
      "Requirement already satisfied: numpy~=1.19.2 in /home/priyanshu/anaconda3/lib/python3.9/site-packages (from tensorflow==2.5.0) (1.19.5)\n",
      "Requirement already satisfied: protobuf>=3.9.2 in /home/priyanshu/anaconda3/lib/python3.9/site-packages (from tensorflow==2.5.0) (3.20.3)\n",
      "Requirement already satisfied: keras-nightly~=2.5.0.dev in /home/priyanshu/anaconda3/lib/python3.9/site-packages (from tensorflow==2.5.0) (2.5.0.dev2021032900)\n",
      "Requirement already satisfied: google-pasta~=0.2 in /home/priyanshu/anaconda3/lib/python3.9/site-packages (from tensorflow==2.5.0) (0.2.0)\n",
      "Requirement already satisfied: six~=1.15.0 in /home/priyanshu/anaconda3/lib/python3.9/site-packages (from tensorflow==2.5.0) (1.15.0)\n",
      "Requirement already satisfied: termcolor~=1.1.0 in /home/priyanshu/anaconda3/lib/python3.9/site-packages (from tensorflow==2.5.0) (1.1.0)\n",
      "Requirement already satisfied: h5py~=3.1.0 in /home/priyanshu/anaconda3/lib/python3.9/site-packages (from tensorflow==2.5.0) (3.1.0)\n",
      "Requirement already satisfied: tensorboard~=2.5 in /home/priyanshu/anaconda3/lib/python3.9/site-packages (from tensorflow==2.5.0) (2.11.2)\n",
      "Requirement already satisfied: grpcio~=1.34.0 in /home/priyanshu/anaconda3/lib/python3.9/site-packages (from tensorflow==2.5.0) (1.34.1)\n",
      "Requirement already satisfied: pillow>=6.2.0 in /home/priyanshu/anaconda3/lib/python3.9/site-packages (from matplotlib) (9.2.0)\n",
      "Requirement already satisfied: cycler>=0.10 in /home/priyanshu/anaconda3/lib/python3.9/site-packages (from matplotlib) (0.11.0)\n",
      "Requirement already satisfied: python-dateutil>=2.7 in /home/priyanshu/anaconda3/lib/python3.9/site-packages (from matplotlib) (2.8.2)\n",
      "Requirement already satisfied: kiwisolver>=1.0.1 in /home/priyanshu/anaconda3/lib/python3.9/site-packages (from matplotlib) (1.4.2)\n",
      "Requirement already satisfied: packaging>=20.0 in /home/priyanshu/anaconda3/lib/python3.9/site-packages (from matplotlib) (21.3)\n",
      "Requirement already satisfied: pyparsing>=2.2.1 in /home/priyanshu/anaconda3/lib/python3.9/site-packages (from matplotlib) (3.0.9)\n",
      "Requirement already satisfied: fonttools>=4.22.0 in /home/priyanshu/anaconda3/lib/python3.9/site-packages (from matplotlib) (4.25.0)\n",
      "Requirement already satisfied: tensorboard-plugin-wit>=1.6.0 in /home/priyanshu/anaconda3/lib/python3.9/site-packages (from tensorboard~=2.5->tensorflow==2.5.0) (1.8.1)\n",
      "Requirement already satisfied: werkzeug>=1.0.1 in /home/priyanshu/anaconda3/lib/python3.9/site-packages (from tensorboard~=2.5->tensorflow==2.5.0) (2.0.3)\n",
      "Requirement already satisfied: tensorboard-data-server<0.7.0,>=0.6.0 in /home/priyanshu/anaconda3/lib/python3.9/site-packages (from tensorboard~=2.5->tensorflow==2.5.0) (0.6.1)\n",
      "Requirement already satisfied: google-auth<3,>=1.6.3 in /home/priyanshu/anaconda3/lib/python3.9/site-packages (from tensorboard~=2.5->tensorflow==2.5.0) (2.17.1)\n",
      "Requirement already satisfied: setuptools>=41.0.0 in /home/priyanshu/anaconda3/lib/python3.9/site-packages (from tensorboard~=2.5->tensorflow==2.5.0) (63.4.1)\n",
      "Requirement already satisfied: requests<3,>=2.21.0 in /home/priyanshu/anaconda3/lib/python3.9/site-packages (from tensorboard~=2.5->tensorflow==2.5.0) (2.28.1)\n",
      "Requirement already satisfied: google-auth-oauthlib<0.5,>=0.4.1 in /home/priyanshu/anaconda3/lib/python3.9/site-packages (from tensorboard~=2.5->tensorflow==2.5.0) (0.4.6)\n",
      "Requirement already satisfied: markdown>=2.6.8 in /home/priyanshu/anaconda3/lib/python3.9/site-packages (from tensorboard~=2.5->tensorflow==2.5.0) (3.3.4)\n",
      "Requirement already satisfied: pyasn1-modules>=0.2.1 in /home/priyanshu/anaconda3/lib/python3.9/site-packages (from google-auth<3,>=1.6.3->tensorboard~=2.5->tensorflow==2.5.0) (0.2.8)\n",
      "Requirement already satisfied: cachetools<6.0,>=2.0.0 in /home/priyanshu/anaconda3/lib/python3.9/site-packages (from google-auth<3,>=1.6.3->tensorboard~=2.5->tensorflow==2.5.0) (5.3.0)\n",
      "Requirement already satisfied: rsa<5,>=3.1.4 in /home/priyanshu/anaconda3/lib/python3.9/site-packages (from google-auth<3,>=1.6.3->tensorboard~=2.5->tensorflow==2.5.0) (4.9)\n",
      "Requirement already satisfied: requests-oauthlib>=0.7.0 in /home/priyanshu/anaconda3/lib/python3.9/site-packages (from google-auth-oauthlib<0.5,>=0.4.1->tensorboard~=2.5->tensorflow==2.5.0) (1.3.1)\n",
      "Requirement already satisfied: urllib3<1.27,>=1.21.1 in /home/priyanshu/anaconda3/lib/python3.9/site-packages (from requests<3,>=2.21.0->tensorboard~=2.5->tensorflow==2.5.0) (1.26.11)\n",
      "Requirement already satisfied: charset-normalizer<3,>=2 in /home/priyanshu/anaconda3/lib/python3.9/site-packages (from requests<3,>=2.21.0->tensorboard~=2.5->tensorflow==2.5.0) (2.0.4)\n",
      "Requirement already satisfied: certifi>=2017.4.17 in /home/priyanshu/anaconda3/lib/python3.9/site-packages (from requests<3,>=2.21.0->tensorboard~=2.5->tensorflow==2.5.0) (2022.9.14)\n",
      "Requirement already satisfied: idna<4,>=2.5 in /home/priyanshu/anaconda3/lib/python3.9/site-packages (from requests<3,>=2.21.0->tensorboard~=2.5->tensorflow==2.5.0) (3.3)\n",
      "Requirement already satisfied: pyasn1<0.5.0,>=0.4.6 in /home/priyanshu/anaconda3/lib/python3.9/site-packages (from pyasn1-modules>=0.2.1->google-auth<3,>=1.6.3->tensorboard~=2.5->tensorflow==2.5.0) (0.4.8)\n",
      "Requirement already satisfied: oauthlib>=3.0.0 in /home/priyanshu/anaconda3/lib/python3.9/site-packages (from requests-oauthlib>=0.7.0->google-auth-oauthlib<0.5,>=0.4.1->tensorboard~=2.5->tensorflow==2.5.0) (3.2.2)\n"

     ]
    }
   ],
   "source": [
    "!pip install tensorflow==2.5.0  opencv-python matplotlib"
   ]
  },
  {
   "cell_type": "code",
 
   "execution_count": 2,

   "id": "fc6d88cb",
   "metadata": {},
   "outputs": [],
   "source": [
    "import cv2\n",
    "import matplotlib.pyplot as plt\n",
    "import os \n",
    "import random\n",

    "import numpy as np\n",
    "import uuid\n",
    "import threading"

   ]
  },
  {
   "cell_type": "code",

   "execution_count": 3,
   "id": "a47f6943",
   "metadata": {},
   "outputs": [
    {
     "name": "stderr",
     "output_type": "stream",
     "text": [
      "2023-04-09 23:36:36.006489: W tensorflow/stream_executor/platform/default/dso_loader.cc:64] Could not load dynamic library 'libcudart.so.11.0'; dlerror: libcudart.so.11.0: cannot open shared object file: No such file or directory; LD_LIBRARY_PATH: /home/priyanshu/anaconda3/lib/python3.9/site-packages/cv2/../../lib64:\n",
      "2023-04-09 23:36:36.006507: I tensorflow/stream_executor/cuda/cudart_stub.cc:29] Ignore above cudart dlerror if you do not have a GPU set up on your machine.\n"
     ]
    }
   ],

   "source": [
    "#functional api\n",
    "\n",
    "from tensorflow.keras.models import Model\n",

    "from tensorflow.keras.layers import Layer,Conv2D,Dense,MaxPooling2D,Input,Flatten\n",
    "import tensorflow as tf"

   ]
  },
  {
   "cell_type": "markdown",
   "id": "4cf081eb",
   "metadata": {},
   "source": [
    "## creating folder structures  using os library ##"
   ]
  },
  {
   "cell_type": "code",

   "execution_count": 4,

   "id": "0c3521df",
   "metadata": {},
   "outputs": [],
   "source": [
    "pos_path=os.path.join('data','positive')\n",
    "neg_path=os.path.join('data','negative')\n",
    "anchor_path=os.path.join('data','anchor')"
   ]
  },
  {
   "cell_type": "code",

   "execution_count": 6,
   "id": "d2e929f5",
   "metadata": {},
   "outputs": [],
   "source": [
    "os.makedirs(pos_path)\n",
    "os.makedirs(neg_path)\n",
    "os.makedirs(anchor_path)"
   ]
  },
  {
   "cell_type": "code",
   "execution_count": 8,
   "id": "bd2e6c1f",
   "metadata": {},
   "outputs": [],
   "source": [
    "!tar -xf lfw.tgz"
   ]
  },
  {
   "cell_type": "code",
   "execution_count": 12,
   "id": "dd52a3bf",
   "metadata": {},
   "outputs": [],
   "source": [
    "#changing file location\n",
    "for i in os.listdir('lfw'):\n",
    "    for j in os.listdir(os.path.join('lfw',i)):\n",
    "        oldpath=os.path.join('lfw',i,j)\n",
    "        newpath=os.path.join(neg_path,j)\n",
    "        os.replace(oldpath,newpath)"
   ]
  },
  {
   "cell_type": "code",
   "execution_count": 10,
   "id": "5fc065aa",
   "metadata": {},
   "outputs": [
    {
     "name": "stderr",
     "output_type": "stream",
     "text": [
      "QObject::moveToThread: Current thread (0x52560b0) is not the object's thread (0x3e61120).\n",
      
      "QObject::moveToThread: Current thread (0x52560b0) is not the object's thread (0x3e61120).\n",
      
     
      "\n"
     ]
    }
   ],
   "source": [
    "capture = cv2.VideoCapture(0)\n",
    "while capture.isOpened(): \n",
    "    ret, frame = capture.read()\n",
    "    #Cut down frame\n",
    "    frame=frame[120:370,200:450,:]\n",
    "    \n",
    "    cv2.imshow(\"image\",frame)\n",
    "    key = cv2.waitKey(1) & 0xFF\n",
    "    if key == ord('a'):\n",
    "        imgname=os.path.join(anchor_path,'{}.jpg'.format(uuid.uuid1()))\n",
    "        cv2.imwrite(imgname,frame)\n",
    "    elif key == ord('p'):\n",
    "        imgname=os.path.join(pos_path,'{}.jpg'.format(uuid.uuid1()))\n",
    "        cv2.imwrite(imgname,frame)\n",
    "    elif key == ord('e'):\n",
    "        break\n",
    "\n",
    "capture.release()\n",
    "cv2.destroyAllWindows()\n",
    "\n"
   ]
  },
  {
   "cell_type": "code",
   "execution_count": 8,
   "id": "ec5661d7",
   "metadata": {},
   "outputs": [
    {
     "name": "stderr",
     "output_type": "stream",
     "text": [
      "2023-04-09 23:37:46.168300: W tensorflow/stream_executor/platform/default/dso_loader.cc:64] Could not load dynamic library 'libcuda.so.1'; dlerror: libcuda.so.1: cannot open shared object file: No such file or directory; LD_LIBRARY_PATH: /home/priyanshu/anaconda3/lib/python3.9/site-packages/cv2/../../lib64:\n",
      "2023-04-09 23:37:46.168341: W tensorflow/stream_executor/cuda/cuda_driver.cc:326] failed call to cuInit: UNKNOWN ERROR (303)\n",
      "2023-04-09 23:37:46.168407: I tensorflow/stream_executor/cuda/cuda_diagnostics.cc:156] kernel driver does not appear to be running on this host (priyanshu-Inspiron-7400): /proc/driver/nvidia/version does not exist\n",
      "2023-04-09 23:37:46.169173: I tensorflow/core/platform/cpu_feature_guard.cc:142] This TensorFlow binary is optimized with oneAPI Deep Neural Network Library (oneDNN) to use the following CPU instructions in performance-critical operations:  AVX2 AVX512F FMA\n",
      "To enable them in other operations, rebuild TensorFlow with the appropriate compiler flags.\n"
     ]
    }
   ],
   "source": [
    "anchor=tf.data.Dataset.list_files(anchor_path+'/*.jpg').take(350)\n",
    "positive=tf.data.Dataset.list_files(pos_path+'/*.jpg').take(350)\n",
    "negative=tf.data.Dataset.list_files(neg_path+'/*.jpg').take(350)"
   ]
  },
  {
   "cell_type": "code",
   "execution_count": 9,
   "id": "f2c6af0a",
   "metadata": {},

   "outputs": [
    {
     "data": {
      "text/plain": [

       "b'data/anchor/c42e30b6-d606-11ed-b7da-6fbc72172f5b.jpg'"
      ]
     },
     "execution_count": 9,

     "metadata": {},
     "output_type": "execute_result"
    }
   ],
   "source": [

    "a=anchor.as_numpy_iterator()\n",
    "a.next()"
   ]
  },
  {
   "cell_type": "code",
   "execution_count": 10,
   "id": "492bd13f",
   "metadata": {},
   "outputs": [],
   "source": [
    "def preprocess(fpath):\n",
    "    \n",
    "    byte_img = tf.io.read_file(fpath)\n",
    "    img = tf.io.decode_jpeg(byte_img)\n",
    "    # Preprocessing steps - resizing the image to be 100x100x3\n",
    "    img = tf.image.resize(img, (105,105))\n",
    "    # Scale image to be between 0 and 1 \n",
    "    img = img / 255.0\n",
    "    return img"
   ]
  },
  {
   "cell_type": "code",
   "execution_count": 11,
   "id": "1915fc7e",
   "metadata": {},
   "outputs": [],
   "source": [
    "positives = tf.data.Dataset.zip((anchor, positive, tf.data.Dataset.from_tensor_slices(tf.ones(len(anchor)))))\n",
    "negatives = tf.data.Dataset.zip((anchor, negative, tf.data.Dataset.from_tensor_slices(tf.zeros(len(anchor)))))\n",
    "data = positives.concatenate(negatives)  #creating our dataset of negatives and positives"
   ]
  },
  {
   "cell_type": "code",
   "execution_count": 12,
   "id": "8e0d26d3",
   "metadata": {},
   "outputs": [],
   "source": [
    "def preprocess_twin(input_img, validation_img, label):\n",
    "    return(preprocess(input_img), preprocess(validation_img), label)"
   ]
  },
  {
   "cell_type": "code",
   "execution_count": 13,
   "id": "7ad2d1e8",
   "metadata": {},
   "outputs": [],
   "source": [
    "#data loader pipeline\n",
    "data = data.map(preprocess_twin)\n",
    "data = data.cache()\n",
    "data = data.shuffle(buffer_size=1024)"
   ]
  },
  {
   "cell_type": "code",
   "execution_count": 21,
   "id": "4c4af915",
   "metadata": {},
   "outputs": [],
   "source": [
    "# Training partition\n",
    "training_data = data.take(round(len(data)*.75))\n",
    "training_data = training_data.batch(16)\n",
    "training_data = training_data.prefetch(8)"
   ]
  },
  {
   "cell_type": "code",
   "execution_count": 24,
   "id": "561020b7",
   "metadata": {},
   "outputs": [],
   "source": [
    "# Testing partition\n",
    "testing_data = data.skip(round(len(data)*.75))\n",
    "testing_data = testing_data.take(round(len(data)*.25))\n",
    "testing_data = testing_data.batch(16)\n",
    "testing_data = testing_data.prefetch(8)"

   ]
  },
  {
   "cell_type": "code",
   "execution_count": null,

   "id": "c0be82f7",

   "metadata": {},
   "outputs": [],
   "source": []
  }
 ],
 "metadata": {
  "kernelspec": {
   "display_name": "Python 3 (ipykernel)",
   "language": "python",
   "name": "python3"
  },
  "language_info": {
   "codemirror_mode": {
    "name": "ipython",
    "version": 3
   },
   "file_extension": ".py",
   "mimetype": "text/x-python",
   "name": "python",
   "nbconvert_exporter": "python",
   "pygments_lexer": "ipython3",
   "version": "3.9.13"
  }
 },
 "nbformat": 4,
 "nbformat_minor": 5
}
